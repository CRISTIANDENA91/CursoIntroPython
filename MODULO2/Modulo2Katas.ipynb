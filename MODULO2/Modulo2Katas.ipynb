{
 "cells": [
  {
   "cell_type": "code",
   "execution_count": null,
   "metadata": {},
   "outputs": [],
   "source": []
  },
  {
   "cell_type": "markdown",
   "metadata": {},
   "source": [
    "C:\\Users\\crist>python -m venv env\n",
    "\n",
    "C:\\Users\\crist>env\\Scripts\\activate\n",
    "\n",
    "(env) C:\\Users\\crist>pip install python-dateutil\n",
    "Requirement already satisfied: python-dateutil in c:\\users\\crist\\env\\lib\\site-packages (2.8.2)\n",
    "Requirement already satisfied: six>=1.5 in c:\\users\\crist\\env\\lib\\site-packages (from python-dateutil) (1.16.0)\n",
    "WARNING: You are using pip version 21.2.4; however, version 22.0.3 is available.\n",
    "You should consider upgrading via the 'C:\\Users\\crist\\env\\Scripts\\python.exe -m pip install --upgrade pip' command.\n",
    "\n",
    "(env) C:\\Users\\crist>pip freeze\n",
    "python-dateutil==2.8.2\n",
    "six==1.16.0\n",
    "\n",
    "(env) C:\\Users\\crist>deactivate\n",
    "C:\\Users\\crist>\n"
   ]
  }
 ],
 "metadata": {
  "language_info": {
   "name": "python"
  },
  "orig_nbformat": 4
 },
 "nbformat": 4,
 "nbformat_minor": 2
}
