{
 "cells": [
  {
   "cell_type": "markdown",
   "metadata": {},
   "source": [
    "# Ejercicio: Uso de funciones en Python\n",
    "1.-Trabajar con argumentos en funciones"
   ]
  },
  {
   "cell_type": "code",
   "execution_count": 22,
   "metadata": {},
   "outputs": [],
   "source": [
    "# Función para leer 3 tanques de combustible y muestre el promedio\n",
    "def informe (tanque1, tanque2, tanque3):\n",
    "    promedio = (tanque1 + tanque2 + tanque3) / 3\n",
    "    return f\"promedio: {promedio}  tanque1: {tanque1} tanque2: {tanque2} tanque3: {tanque3}\""
   ]
  },
  {
   "cell_type": "code",
   "execution_count": 23,
   "metadata": {},
   "outputs": [
    {
     "name": "stdout",
     "output_type": "stream",
     "text": [
      "promedio: 54.333333333333336  tanque1: 55 tanque2: 40 tanque3: 68\n"
     ]
    }
   ],
   "source": [
    "# Llamamos a la función que genera el reporte print(funcion(tanque1, tanque2, tanque3))\n",
    "print(informe(55, 40, 68))"
   ]
  },
  {
   "cell_type": "code",
   "execution_count": 24,
   "metadata": {},
   "outputs": [],
   "source": [
    "# Función promedio \n",
    "def nuevo_promedio(values):\n",
    "    total = sum(values)\n",
    "    num_articulos = len(values)\n",
    "    return total / num_articulos"
   ]
  },
  {
   "cell_type": "code",
   "execution_count": 25,
   "metadata": {},
   "outputs": [
    {
     "data": {
      "text/plain": [
       "60.666666666666664"
      ]
     },
     "execution_count": 25,
     "metadata": {},
     "output_type": "execute_result"
    }
   ],
   "source": [
    "#Llamando a la funcion con nuevos valores\n",
    "nuevo_promedio([60, 45, 77]) "
   ]
  },
  {
   "cell_type": "code",
   "execution_count": 26,
   "metadata": {},
   "outputs": [],
   "source": [
    "# Actualiza la funcion\n",
    "def informe(tanque1, tanque2, tanque3):\n",
    "    return f\"\"\"Reporte de combustible: {nuevo_promedio([tanque1, tanque2, tanque3])} %\n",
    "    tanque1: {tanque1}% tanque2: {tanque2}% tanque3: {tanque3}%\"\"\"\n",
    "\n",
    "    "
   ]
  },
  {
   "cell_type": "code",
   "execution_count": 27,
   "metadata": {},
   "outputs": [
    {
     "name": "stdout",
     "output_type": "stream",
     "text": [
      "Reporte de combustible: 74.66666666666667 %\n",
      "    tanque1: 78% tanque2: 55% tanque3: 91%\n"
     ]
    }
   ],
   "source": [
    "#Llamando a la funcion con otros valores\n",
    "print(informe(78, 55, 91))"
   ]
  },
  {
   "cell_type": "markdown",
   "metadata": {},
   "source": [
    "# Ejercicio 2"
   ]
  },
  {
   "cell_type": "code",
   "execution_count": 52,
   "metadata": {},
   "outputs": [
    {
     "name": "stdout",
     "output_type": "stream",
     "text": [
      "Mision destino a Marte \n",
      "    Tiempo de viaje: 50 minutos\n",
      "    combustible_restante: 4690885 Galones\n"
     ]
    }
   ],
   "source": [
    "# Función con un informe preciso de la misión. Considera hora de prelanzamiento, tiempo de vuelo, destino, tanque externo y tanque interno\n",
    "def mision_informe(hora_prelanzamiento, tiempo_vuelo, destino, tanque_externo, tanque_interno):\n",
    "    return f\"\"\"Mision destino a {destino} \n",
    "    Tiempo de viaje: {hora_prelanzamiento + tiempo_vuelo} minutos\n",
    "    combustible_restante: {tanque_externo + tanque_interno} Galones\"\"\"\n",
    "\n",
    "\n",
    "print(mision_informe (10, 40, \"Marte\", 345445, 4345440))"
   ]
  },
  {
   "cell_type": "code",
   "execution_count": 58,
   "metadata": {},
   "outputs": [
    {
     "name": "stdout",
     "output_type": "stream",
     "text": [
      "\n",
      "    Mision destino a Marte\n",
      "    Tiempo de viaje: 125 minutes\n",
      "    Total de combustible: 4690885\n"
     ]
    }
   ],
   "source": [
    "# Escribe tu nueva función de reporte considerando lo anterior\n",
    "def mision_informe(destino, *minutos, **combustible_reservado):\n",
    "    return f\"\"\"\n",
    "    Mision destino a {destino}\n",
    "    Tiempo de viaje: {sum(minutos)} minutes\n",
    "    Total de combustible: {sum(combustible_reservado.values())}\"\"\"\n",
    "\n",
    "\n",
    "print(mision_informe(\"Marte\", 20, 25, 80, externo=345445, interno=4345440))"
   ]
  },
  {
   "cell_type": "code",
   "execution_count": 59,
   "metadata": {},
   "outputs": [
    {
     "name": "stdout",
     "output_type": "stream",
     "text": [
      " \n",
      "    Mision destino a Marte\n",
      "    Tiempo de viaje: 124 minutes\n",
      "    Total de combustible: 4690885externo tanque --> 345445 galones de combustible\n",
      "\n"
     ]
    }
   ],
   "source": [
    "# Escribe tu nueva funcion\n",
    "\n",
    "def mision_informe(destino, *minutos, **combustible_reservado):\n",
    "    informe_principal = f\"\"\" \n",
    "    Mision destino a {destino}\n",
    "    Tiempo de viaje: {sum(minutos)} minutes\n",
    "    Total de combustible: {sum(combustible_reservado.values())}\"\"\"\n",
    "\n",
    "\n",
    "    for tanque, galones in combustible_reservado.items():\n",
    "        informe_principal += f\"{tanque} tanque --> {galones} galones de combustible\\n\"\n",
    "        return informe_principal\n",
    "        \n",
    "        \n",
    "print(mision_informe(\"Marte\", 15, 22, 87, externo=345445, interno=4345440))\n"
   ]
  }
 ],
 "metadata": {
  "interpreter": {
   "hash": "4b130670e0cfccdb21de42b67b71da3d5e708bb9dd6f1702d34614f2d4ceb09d"
  },
  "kernelspec": {
   "display_name": "Python 3.10.2 64-bit",
   "language": "python",
   "name": "python3"
  },
  "language_info": {
   "codemirror_mode": {
    "name": "ipython",
    "version": 3
   },
   "file_extension": ".py",
   "mimetype": "text/x-python",
   "name": "python",
   "nbconvert_exporter": "python",
   "pygments_lexer": "ipython3",
   "version": "3.10.2"
  },
  "orig_nbformat": 4
 },
 "nbformat": 4,
 "nbformat_minor": 2
}
