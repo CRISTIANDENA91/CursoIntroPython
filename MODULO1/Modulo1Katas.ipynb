{
 "cells": [
  {
   "cell_type": "code",
   "execution_count": 1,
   "metadata": {},
   "outputs": [
    {
     "name": "stdout",
     "output_type": "stream",
     "text": [
      "Today's date is: 2022-02-18\n"
     ]
    }
   ],
   "source": [
    "from datetime import date\n",
    "print(\"Today's date is: \" + str(date.today()))"
   ]
  },
  {
   "cell_type": "code",
   "execution_count": 2,
   "metadata": {},
   "outputs": [
    {
     "name": "stdout",
     "output_type": "stream",
     "text": [
      "Bienvenido al programa de bienvenida\n",
      "Saludos: CRISTIAN DENA\n"
     ]
    }
   ],
   "source": [
    "print(\"Bienvenido al programa de bienvenida\")\n",
    "name = input(\"Introduzca su nombre \")\n",
    "print(\"Saludos: \" + name)"
   ]
  },
  {
   "cell_type": "code",
   "execution_count": 3,
   "metadata": {},
   "outputs": [
    {
     "name": "stdout",
     "output_type": "stream",
     "text": [
      "Calculadora\n",
      "80\n"
     ]
    }
   ],
   "source": [
    "print(\"Calculadora\")\n",
    "first_number = input(\"Primer número: \")\n",
    "second_number = input(\"Segundo número: \")\n",
    "print(int(first_number) + int(second_number))"
   ]
  },
  {
   "cell_type": "code",
   "execution_count": 4,
   "metadata": {},
   "outputs": [
    {
     "name": "stdout",
     "output_type": "stream",
     "text": [
      "11 parsec, is 35.877159999999996 lightyears\n"
     ]
    }
   ],
   "source": [
    "parsec = 11\n",
    "lightyears = 3.26156 * parsec\n",
    "\n",
    "print(str(parsec) + \" parsec, is \" + str(lightyears) + \" lightyears\")"
   ]
  }
 ],
 "metadata": {
  "interpreter": {
   "hash": "4b130670e0cfccdb21de42b67b71da3d5e708bb9dd6f1702d34614f2d4ceb09d"
  },
  "kernelspec": {
   "display_name": "Python 3.10.2 64-bit",
   "language": "python",
   "name": "python3"
  },
  "language_info": {
   "codemirror_mode": {
    "name": "ipython",
    "version": 3
   },
   "file_extension": ".py",
   "mimetype": "text/x-python",
   "name": "python",
   "nbconvert_exporter": "python",
   "pygments_lexer": "ipython3",
   "version": "3.10.2"
  },
  "orig_nbformat": 4
 },
 "nbformat": 4,
 "nbformat_minor": 2
}
