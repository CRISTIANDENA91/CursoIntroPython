{
 "cells": [
  {
   "cell_type": "markdown",
   "metadata": {},
   "source": [
    "# Ejercicio 1"
   ]
  },
  {
   "cell_type": "code",
   "execution_count": 1,
   "metadata": {},
   "outputs": [],
   "source": [
    "# Crear variables para almacenar las dos distancias\n",
    "# ¡Asegúrate de quitar las comas!\n",
    "\n",
    "pTierra = 149597870\n",
    "pJupiter = 778547200\n"
   ]
  },
  {
   "cell_type": "code",
   "execution_count": 32,
   "metadata": {},
   "outputs": [
    {
     "name": "stdout",
     "output_type": "stream",
     "text": [
      "628949330\n",
      "390577533.93\n"
     ]
    }
   ],
   "source": [
    "# Calcular la distancia entre planetas\n",
    "DistanciaKm = pJupiter - pTierra\n",
    "print(DistanciaKm)\n",
    "\n",
    "DistanciaMi = DistanciaKm * 0.621\n",
    "print(DistanciaMi)"
   ]
  },
  {
   "cell_type": "markdown",
   "metadata": {},
   "source": [
    "# Ejercicio 2"
   ]
  },
  {
   "cell_type": "code",
   "execution_count": 49,
   "metadata": {},
   "outputs": [
    {
     "name": "stdout",
     "output_type": "stream",
     "text": [
      "758789\n",
      "768907\n"
     ]
    }
   ],
   "source": [
    "# Almacenar las entradas del usuario\n",
    "#Pista: variable = input(\"¿Cuál es tu nombre?\")\n",
    "\n",
    "Planeta1 = input(\"Por favor indica la distancia del planeta1 hacia el sol: \")\n",
    "print(Planeta1)\n",
    "Planeta2 = input(\"Por favor indica la distancia del planeta2 hacia el sol: \")\n",
    "print(Planeta2)"
   ]
  },
  {
   "cell_type": "code",
   "execution_count": 50,
   "metadata": {},
   "outputs": [],
   "source": [
    "# Convierte las cadenas de ambos planetas a números enteros\n",
    "Planeta1 = int (Planeta1)\n",
    "Planeta2 = int (Planeta2)"
   ]
  },
  {
   "cell_type": "code",
   "execution_count": 52,
   "metadata": {},
   "outputs": [
    {
     "name": "stdout",
     "output_type": "stream",
     "text": [
      "10118\n",
      "6283.278\n"
     ]
    }
   ],
   "source": [
    "# Realizar el cálculo y determinar el valor absoluto\n",
    "DistanciaKm = Planeta2 - Planeta1\n",
    "print(DistanciaKm)\n",
    "\n",
    "# Convertir de KM a Millas\n",
    "DistanciaMi = DistanciaKm * 0.621\n",
    "print(abs (DistanciaMi))"
   ]
  }
 ],
 "metadata": {
  "interpreter": {
   "hash": "4b130670e0cfccdb21de42b67b71da3d5e708bb9dd6f1702d34614f2d4ceb09d"
  },
  "kernelspec": {
   "display_name": "Python 3.10.2 64-bit",
   "language": "python",
   "name": "python3"
  },
  "language_info": {
   "codemirror_mode": {
    "name": "ipython",
    "version": 3
   },
   "file_extension": ".py",
   "mimetype": "text/x-python",
   "name": "python",
   "nbconvert_exporter": "python",
   "pygments_lexer": "ipython3",
   "version": "3.10.2"
  },
  "orig_nbformat": 4
 },
 "nbformat": 4,
 "nbformat_minor": 2
}
